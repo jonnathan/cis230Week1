{
  "cells": [
    {
      "cell_type": "markdown",
      "metadata": {
        "id": "view-in-github",
        "colab_type": "text"
      },
      "source": [
        "<a href=\"https://colab.research.google.com/github/jonnathan/cis230Week1/blob/main/Copy_of_Jonnathan%5BNotebook_Student%5D_Week_1_Notebook_1_(Descriptive_statistics_I).ipynb\" target=\"_parent\"><img src=\"https://colab.research.google.com/assets/colab-badge.svg\" alt=\"Open In Colab\"/></a>"
      ]
    },
    {
      "cell_type": "markdown",
      "id": "2d3f38be",
      "metadata": {
        "id": "2d3f38be"
      },
      "source": [
        "# AI Project Cycle\n",
        "![AI%20Project%20Cycle.png](attachment:AI%20Project%20Cycle.png)"
      ]
    },
    {
      "cell_type": "markdown",
      "id": "945aa5e3",
      "metadata": {
        "id": "945aa5e3"
      },
      "source": [
        "# Average monthly temperature in Los Angeles: 2021"
      ]
    },
    {
      "cell_type": "markdown",
      "id": "2debd16d",
      "metadata": {
        "id": "2debd16d"
      },
      "source": [
        "## 1. Problem Scoping (AI Project Cycle - Step 1)\n",
        "In this notebook, we are going to apply the theory of descriptive statistics to discover information about a dataset.\n",
        "\n",
        "We are trying to build an AI model to assist with weather prediction in Los Angeles. But before we start collecting data that we will train our AI model on, let’s just start by get a better understanding of the weather in Los Angeles."
      ]
    },
    {
      "cell_type": "markdown",
      "id": "5f04020e",
      "metadata": {
        "id": "5f04020e"
      },
      "source": [
        "## 2. Data Acquisition (AI Project Cycle - Step 2)\n",
        "Dataset Source: https://weatherspark.com/y/1705/Average-Weather-in-Los-Angeles-California-United-States-Year-Round\n",
        "\n",
        "This dataset is about the climate and average weather in Los Angeles, California, United States. We are going to deal with the average temperature of every month."
      ]
    },
    {
      "cell_type": "markdown",
      "id": "150c6f5a",
      "metadata": {
        "id": "150c6f5a"
      },
      "source": [
        "**Importing the required libraries**"
      ]
    },
    {
      "cell_type": "code",
      "execution_count": null,
      "id": "3052de49",
      "metadata": {
        "id": "3052de49"
      },
      "outputs": [],
      "source": [
        "import numpy as np\n",
        "from scipy import stats"
      ]
    },
    {
      "cell_type": "markdown",
      "id": "254e91b4",
      "metadata": {
        "id": "254e91b4"
      },
      "source": [
        "### 2.1. Creating a numpy array with the monthly mean temperatures in LA.\n",
        "We will manually copy the recorded temperature highs and lows from the above link and save it into a numpy array in the below step.\n",
        "\n",
        "<b>Note:</b> All temperatures are in Celsius."
      ]
    },
    {
      "cell_type": "code",
      "execution_count": null,
      "id": "06fcf02a",
      "metadata": {
        "id": "06fcf02a"
      },
      "outputs": [],
      "source": [
        "highs = np.array([68, 68, 70, 72, 74, 78, 83, 84, 83, 78, 72, 67])\n",
        "lows = np.array([49, 50, 52, 55, 59, 62, 65, 66, 64, 60, 53, 49])"
      ]
    },
    {
      "cell_type": "code",
      "execution_count": null,
      "id": "92b5c0b3",
      "metadata": {
        "id": "92b5c0b3",
        "outputId": "e3baa697-ade8-414f-d8f3-3034b424bc3e",
        "colab": {
          "base_uri": "https://localhost:8080/"
        }
      },
      "outputs": [
        {
          "output_type": "stream",
          "name": "stdout",
          "text": [
            "[68 68 70 72 74 78 83 84 83 78 72 67]\n",
            "[49 50 52 55 59 62 65 66 64 60 53 49]\n"
          ]
        }
      ],
      "source": [
        "print(highs)\n",
        "print(lows)"
      ]
    },
    {
      "cell_type": "markdown",
      "id": "b2447b03",
      "metadata": {
        "id": "b2447b03"
      },
      "source": [
        "## 3. Data Exploration (AI Project Cycle - Step 3)\n",
        "\n",
        "### 3.1.1. Manually calculate the mean temperature\n",
        "Manually calculate the mean high temperature of the entire year using the equation.\n",
        "\n",
        "${mean} = \\sum Monthly Temperature \\div Number Of Months$"
      ]
    },
    {
      "cell_type": "code",
      "execution_count": 1,
      "id": "d8943493",
      "metadata": {
        "id": "d8943493",
        "outputId": "e8a49791-fd22-40cd-c36b-a25ef3e30f2e",
        "colab": {
          "base_uri": "https://localhost:8080/",
          "height": 246
        }
      },
      "outputs": [
        {
          "output_type": "error",
          "ename": "NameError",
          "evalue": "ignored",
          "traceback": [
            "\u001b[0;31m---------------------------------------------------------------------------\u001b[0m",
            "\u001b[0;31mNameError\u001b[0m                                 Traceback (most recent call last)",
            "\u001b[0;32m<ipython-input-1-666de1fbc449>\u001b[0m in \u001b[0;36m<cell line: 3>\u001b[0;34m()\u001b[0m\n\u001b[1;32m      1\u001b[0m \u001b[0;31m#student answer\u001b[0m\u001b[0;34m\u001b[0m\u001b[0;34m\u001b[0m\u001b[0m\n\u001b[1;32m      2\u001b[0m \u001b[0msum\u001b[0m \u001b[0;34m=\u001b[0m \u001b[0;36m0\u001b[0m\u001b[0;34m\u001b[0m\u001b[0;34m\u001b[0m\u001b[0m\n\u001b[0;32m----> 3\u001b[0;31m \u001b[0;32mfor\u001b[0m \u001b[0mnum\u001b[0m \u001b[0;32min\u001b[0m \u001b[0mhighs\u001b[0m\u001b[0;34m:\u001b[0m\u001b[0;34m\u001b[0m\u001b[0;34m\u001b[0m\u001b[0m\n\u001b[0m\u001b[1;32m      4\u001b[0m   \u001b[0msum\u001b[0m \u001b[0;34m+=\u001b[0m \u001b[0mnum\u001b[0m\u001b[0;34m\u001b[0m\u001b[0;34m\u001b[0m\u001b[0m\n\u001b[1;32m      5\u001b[0m \u001b[0mmean\u001b[0m \u001b[0;34m=\u001b[0m \u001b[0msum\u001b[0m \u001b[0;34m/\u001b[0m \u001b[0mlen\u001b[0m\u001b[0;34m(\u001b[0m\u001b[0mhighs\u001b[0m\u001b[0;34m)\u001b[0m\u001b[0;34m\u001b[0m\u001b[0;34m\u001b[0m\u001b[0m\n",
            "\u001b[0;31mNameError\u001b[0m: name 'highs' is not defined"
          ]
        }
      ],
      "source": [
        "#student answer\n",
        "sum = 0\n",
        "for num in highs:\n",
        "  sum += num\n",
        "mean = sum / len(highs)\n",
        "print(mean)\n"
      ]
    },
    {
      "cell_type": "markdown",
      "id": "a6d1ee78",
      "metadata": {
        "id": "a6d1ee78"
      },
      "source": [
        "### 3.1.2. Calculate the mean temperature\n",
        "Calculate the mean high temperature of the entire year using the numpy built-in function [mean()](https://numpy.org/doc/stable/reference/generated/numpy.mean.html)"
      ]
    },
    {
      "cell_type": "code",
      "execution_count": null,
      "id": "fac9126f",
      "metadata": {
        "id": "fac9126f",
        "outputId": "68b09d8d-bf01-4b6e-d660-3a36aafff494",
        "colab": {
          "base_uri": "https://localhost:8080/"
        }
      },
      "outputs": [
        {
          "output_type": "stream",
          "name": "stdout",
          "text": [
            "74.75\n"
          ]
        }
      ],
      "source": [
        "#student answer\n",
        "print(np.mean(highs))\n"
      ]
    },
    {
      "cell_type": "markdown",
      "id": "378ed92d",
      "metadata": {
        "id": "378ed92d"
      },
      "source": [
        "### 3.2.1. Manually identify the median temperature\n",
        "Manually identify the median high temperature of entire year."
      ]
    },
    {
      "cell_type": "code",
      "execution_count": null,
      "id": "58d70ff1",
      "metadata": {
        "id": "58d70ff1",
        "outputId": "fecb2290-2b16-47e9-cd8a-8266203d4609"
      },
      "outputs": [
        {
          "data": {
            "text/plain": [
              "array([67, 68, 68, 70, 72, 72, 74, 78, 78, 83, 83, 84])"
            ]
          },
          "execution_count": 6,
          "metadata": {},
          "output_type": "execute_result"
        }
      ],
      "source": [
        "#The median is difficult to identify with the list out of order.\n",
        "#We can use np.sort(x) to sort our list for us from lowest to highest.\n",
        "np.sort(highs)"
      ]
    },
    {
      "cell_type": "code",
      "execution_count": null,
      "id": "60ca4619",
      "metadata": {
        "id": "60ca4619",
        "outputId": "da4df80e-4bad-4109-d56f-743316edd104"
      },
      "outputs": [
        {
          "name": "stdout",
          "output_type": "stream",
          "text": [
            "22.5\n"
          ]
        }
      ],
      "source": [
        "#Now identify the median from this list\n",
        "#Student answer\n"
      ]
    },
    {
      "cell_type": "markdown",
      "id": "b7203213",
      "metadata": {
        "id": "b7203213"
      },
      "source": [
        "### 3.2.2. Calculate the median temperature\n",
        "Calculate the median temperature of entire year using the numpy built-in function [median()](https://numpy.org/doc/stable/reference/generated/numpy.median.html)"
      ]
    },
    {
      "cell_type": "code",
      "execution_count": null,
      "id": "21ca2f3f",
      "metadata": {
        "id": "21ca2f3f",
        "outputId": "66f4a778-0070-47aa-a886-5134493bd6e6"
      },
      "outputs": [
        {
          "data": {
            "text/plain": [
              "73.0"
            ]
          },
          "execution_count": 8,
          "metadata": {},
          "output_type": "execute_result"
        }
      ],
      "source": [
        "#student answer\n"
      ]
    },
    {
      "cell_type": "markdown",
      "id": "0dad9d5c",
      "metadata": {
        "id": "0dad9d5c"
      },
      "source": [
        "### 3.3.1. Manually identify the mode of the temperature values!\n",
        "With the now sorted list, manually identify the mode of the high temperature values of the entire year."
      ]
    },
    {
      "cell_type": "code",
      "execution_count": null,
      "id": "e58ca6d8",
      "metadata": {
        "id": "e58ca6d8"
      },
      "outputs": [],
      "source": [
        "#student answer (submit your answer as a comment in this cell)\n"
      ]
    },
    {
      "cell_type": "markdown",
      "id": "3972a5c0",
      "metadata": {
        "id": "3972a5c0"
      },
      "source": [
        "### 3.3.2. Calculate the mode of the temperature values\n",
        "Calculate the mode of the high temperature values of the entire year using the scipy built-in function in stats()"
      ]
    },
    {
      "cell_type": "code",
      "execution_count": null,
      "id": "860c7d0a",
      "metadata": {
        "id": "860c7d0a",
        "outputId": "3cc8f2f0-cf97-40ce-bb41-308a05d1df31"
      },
      "outputs": [
        {
          "name": "stdout",
          "output_type": "stream",
          "text": [
            "ModeResult(mode=array([68]), count=array([2]))\n"
          ]
        }
      ],
      "source": [
        "#student answer\n",
        "mode_highs = stats.mode(highs)\n",
        "print(mode_highs)"
      ]
    },
    {
      "cell_type": "code",
      "execution_count": null,
      "id": "b0bcdbb0",
      "metadata": {
        "id": "b0bcdbb0",
        "outputId": "cfff10e1-aace-4dd8-f339-33f8a97db2d3"
      },
      "outputs": [
        {
          "name": "stdout",
          "output_type": "stream",
          "text": [
            "[67 68 68 70 72 72 74 78 78 83 83 84]\n"
          ]
        }
      ],
      "source": [
        "#student answer\n"
      ]
    },
    {
      "cell_type": "markdown",
      "id": "8db22906",
      "metadata": {
        "id": "8db22906"
      },
      "source": [
        "## 4. Repeat for the lows\n",
        "We have calculated the mean, meadian and mode for the highs, now let's do the same for the lows.\n",
        "\n",
        "Using numpy and scipy, calculate the mean median and mode for the lows array."
      ]
    },
    {
      "cell_type": "code",
      "execution_count": null,
      "id": "373da46c",
      "metadata": {
        "id": "373da46c",
        "outputId": "6246c604-0549-4d64-c963-fee4816ae39c"
      },
      "outputs": [
        {
          "data": {
            "text/plain": [
              "57.0"
            ]
          },
          "execution_count": 12,
          "metadata": {},
          "output_type": "execute_result"
        }
      ],
      "source": [
        "#student anwser for mean\n"
      ]
    },
    {
      "cell_type": "code",
      "execution_count": null,
      "id": "3af95bcf",
      "metadata": {
        "id": "3af95bcf",
        "outputId": "41f1c92a-4911-4681-ae09-c030a22ef21c"
      },
      "outputs": [
        {
          "data": {
            "text/plain": [
              "57.0"
            ]
          },
          "execution_count": 13,
          "metadata": {},
          "output_type": "execute_result"
        }
      ],
      "source": [
        "#student answer for median\n"
      ]
    },
    {
      "cell_type": "code",
      "execution_count": null,
      "id": "9e82aa65",
      "metadata": {
        "id": "9e82aa65",
        "outputId": "a7ac239d-c783-4dfb-a9b5-821731fd622e"
      },
      "outputs": [
        {
          "name": "stdout",
          "output_type": "stream",
          "text": [
            "ModeResult(mode=array([49]), count=array([2]))\n"
          ]
        }
      ],
      "source": [
        "#student answer for mode\n"
      ]
    },
    {
      "cell_type": "markdown",
      "id": "88cdabd2",
      "metadata": {
        "id": "88cdabd2"
      },
      "source": [
        "## 5. Conclusion\n",
        "We have now begun the process of understanding the weather in Los Angeles and what the trends are within our data. We have achieved this knowledge by calculating the mean, meadian and mode."
      ]
    }
  ],
  "metadata": {
    "kernelspec": {
      "display_name": "Python 3 (ipykernel)",
      "language": "python",
      "name": "python3"
    },
    "language_info": {
      "codemirror_mode": {
        "name": "ipython",
        "version": 3
      },
      "file_extension": ".py",
      "mimetype": "text/x-python",
      "name": "python",
      "nbconvert_exporter": "python",
      "pygments_lexer": "ipython3",
      "version": "3.9.7"
    },
    "toc": {
      "base_numbering": 1,
      "nav_menu": {},
      "number_sections": false,
      "sideBar": true,
      "skip_h1_title": false,
      "title_cell": "Table of Contents",
      "title_sidebar": "Contents",
      "toc_cell": false,
      "toc_position": {},
      "toc_section_display": true,
      "toc_window_display": true
    },
    "colab": {
      "provenance": [],
      "toc_visible": true,
      "include_colab_link": true
    }
  },
  "nbformat": 4,
  "nbformat_minor": 5
}